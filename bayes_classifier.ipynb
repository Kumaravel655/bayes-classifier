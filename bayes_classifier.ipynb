{
  "nbformat": 4,
  "nbformat_minor": 0,
  "metadata": {
    "colab": {
      "provenance": []
    },
    "kernelspec": {
      "name": "python3",
      "display_name": "Python 3"
    },
    "language_info": {
      "name": "python"
    }
  },
  "cells": [
    {
      "cell_type": "code",
      "execution_count": 1,
      "metadata": {
        "id": "JQsym1k6aRv7"
      },
      "outputs": [],
      "source": [
        "import numpy as np\n",
        "from sklearn.datasets import load_iris\n",
        "from sklearn.model_selection import train_test_split\n",
        "from sklearn.naive_bayes import GaussianNB\n",
        "from sklearn.metrics import accuracy_score\n"
      ]
    },
    {
      "cell_type": "code",
      "source": [
        "class BayesClassifier:\n",
        "  def __init__(self):\n",
        "    self.clf=GaussianNB()\n",
        "  def fit(self,X,y):\n",
        "    self.clf.fit(X,y)\n",
        "  def predict(self,X):\n",
        "    return self.clf.predict(X)\n"
      ],
      "metadata": {
        "id": "R7exu_YkaaT1"
      },
      "execution_count": 2,
      "outputs": []
    },
    {
      "cell_type": "code",
      "source": [
        "#Load the Iris dataset\n",
        "iris=load_iris()\n"
      ],
      "metadata": {
        "id": "RC4vT8veacg7"
      },
      "execution_count": 3,
      "outputs": []
    },
    {
      "cell_type": "code",
      "source": [
        "#split the data into training and testing sets\n",
        "X_train,X_test,y_train,y_test=train_test_split(iris.data,iris.target,test_size=0.3,random_state=38)\n",
        "clf=BayesClassifier()\n",
        "clf.fit(X_train,y_train)\n"
      ],
      "metadata": {
        "id": "8KLLKpDjaeli"
      },
      "execution_count": 4,
      "outputs": []
    },
    {
      "cell_type": "code",
      "source": [
        "y_pred=clf.predict(X_test)\n",
        "accuracy=accuracy_score(y_test,y_pred)\n",
        "print(\"Accuracy:\",accuracy)"
      ],
      "metadata": {
        "colab": {
          "base_uri": "https://localhost:8080/"
        },
        "id": "aP_HNweQagf-",
        "outputId": "53f8b3ee-831e-4576-f54c-f9bae3655128"
      },
      "execution_count": 5,
      "outputs": [
        {
          "output_type": "stream",
          "name": "stdout",
          "text": [
            "Accuracy: 0.9777777777777777\n"
          ]
        }
      ]
    },
    {
      "cell_type": "code",
      "source": [],
      "metadata": {
        "id": "XES91gBPahGp"
      },
      "execution_count": null,
      "outputs": []
    }
  ]
}